{
 "cells": [
  {
   "cell_type": "markdown",
   "id": "5b8317dd",
   "metadata": {},
   "source": [
    "# LinkedIn Jobs List"
   ]
  },
  {
   "cell_type": "markdown",
   "id": "aaa07a0f",
   "metadata": {},
   "source": [
    "#### Importing necessary libraries"
   ]
  },
  {
   "cell_type": "markdown",
   "id": "883423b3",
   "metadata": {},
   "source": [
    "###### Important "
   ]
  },
  {
   "cell_type": "code",
   "execution_count": null,
   "id": "266e5bcf",
   "metadata": {},
   "outputs": [],
   "source": [
    "from selenium import webdriver\n",
    "import time\n",
    "import pandas as pd \n",
    "import os\n",
    "import requests\n",
    "from bs4 import BeautifulSoup"
   ]
  },
  {
   "cell_type": "code",
   "execution_count": null,
   "id": "02d86afd",
   "metadata": {},
   "outputs": [],
   "source": []
  },
  {
   "cell_type": "code",
   "execution_count": null,
   "id": "ad66f787",
   "metadata": {},
   "outputs": [],
   "source": [
    "from selenium.webdriver.support import select\n",
    "from selenium.webdriver.support.ui import WebDriverWait\n",
    "from selenium.webdriver.common.by import By\n",
    "from selenium.webdriver.support import expected_conditions as EC"
   ]
  },
  {
   "cell_type": "markdown",
   "id": "c520224a",
   "metadata": {},
   "source": [
    "###### Load Web Driver and Get the URL"
   ]
  },
  {
   "cell_type": "markdown",
   "id": "27d46b54",
   "metadata": {},
   "source": [
    "###### Loading the driver"
   ]
  },
  {
   "cell_type": "code",
   "execution_count": null,
   "id": "86529cf9",
   "metadata": {},
   "outputs": [],
   "source": [
    "driver=webdriver.Chrome(executable_path=r\"C:/Users/chitr/Downloads/chromedriver_win32/chromedriver.exe\")\n",
    "driver.get(\"https://www.linkedin.com\")"
   ]
  },
  {
   "cell_type": "markdown",
   "id": "02da64f8",
   "metadata": {},
   "source": [
    "###### Signing in"
   ]
  },
  {
   "cell_type": "code",
   "execution_count": null,
   "id": "b577402f",
   "metadata": {},
   "outputs": [],
   "source": [
    "username = driver.find_element(By.ID, \"session_key\")\n",
    "password = driver.find_element(By.ID, \"session_password\")\n",
    "username.send_keys(\" \")\n",
    "password.send_keys(\" \")\n",
    "driver.implicitly_wait(5)"
   ]
  },
  {
   "cell_type": "code",
   "execution_count": null,
   "id": "9973b506",
   "metadata": {},
   "outputs": [],
   "source": [
    "login_button=driver.find_element(By.CLASS_NAME, \"sign-in-form__submit-button\")\n",
    "login_button.click()"
   ]
  },
  {
   "cell_type": "markdown",
   "id": "81fd01e4",
   "metadata": {},
   "source": [
    "#### Collecting the links for all pages"
   ]
  },
  {
   "cell_type": "code",
   "execution_count": null,
   "id": "9d1cc775",
   "metadata": {},
   "outputs": [],
   "source": [
    "pages_url=[]\n",
    "\n",
    "limit=0\n",
    "\n",
    "while limit<1000:\n",
    "    l=\"https://www.linkedin.com/jobs/search/?currentJobId=3443320060&geoId=102713980&keywords=Data%20analyst&location=India&originalSubdomain=in&refresh=true&start=\" +str(limit)\n",
    "    pages_url.append(l)\n",
    "    limit+=25\n",
    "\n",
    "pages_url"
   ]
  },
  {
   "cell_type": "code",
   "execution_count": null,
   "id": "b051bfba",
   "metadata": {},
   "outputs": [],
   "source": [
    "len(pages_url)"
   ]
  },
  {
   "cell_type": "markdown",
   "id": "b507af1a",
   "metadata": {},
   "source": [
    "#### Extracting the required data"
   ]
  },
  {
   "cell_type": "markdown",
   "id": "00a40ae1",
   "metadata": {},
   "source": [
    "###### Scraping through multiple pages and job postings"
   ]
  },
  {
   "cell_type": "code",
   "execution_count": null,
   "id": "9b70ae41",
   "metadata": {},
   "outputs": [],
   "source": [
    "in_text=[]\n",
    "Link_list=[]\n",
    "Soup_obj_list=[]\n",
    "\n",
    "for i in range(len(pages_url)):\n",
    "    driver.get(pages_url[i])\n",
    "    driver.implicitly_wait(3)\n",
    "    \n",
    "    webpage=requests.get(pages_url[i]).text\n",
    "    \n",
    "    Soup_obj_list.append(BeautifulSoup(webpage))\n",
    "    \n",
    "    for link in Soup_obj_list[i].find_all(\"a\"):\n",
    "        Link_list.append(link.get(\"href\"))\n",
    "        in_text.append(\"Inner Text: {}\".format(link.text.strip()))"
   ]
  },
  {
   "cell_type": "code",
   "execution_count": null,
   "id": "2d99ba59",
   "metadata": {},
   "outputs": [],
   "source": [
    "Link_list"
   ]
  },
  {
   "cell_type": "markdown",
   "id": "0ede0902",
   "metadata": {},
   "source": [
    "###### Segregating the relevant links for job posting"
   ]
  },
  {
   "cell_type": "code",
   "execution_count": null,
   "id": "e5a7b9a3",
   "metadata": {},
   "outputs": [],
   "source": [
    "Job_Links=[]\n",
    "Company_Links=[]\n",
    "\n",
    "for i in range(len(Link_list)):\n",
    "    if 'jobs/view' in str(Link_list[i]):\n",
    "        Job_Links.append(Link_list[i])\n",
    "    elif '/company/' in str(Link_list[i]):\n",
    "        Company_Links.append(Link_list[i])\n",
    "    else:\n",
    "        continue"
   ]
  },
  {
   "cell_type": "code",
   "execution_count": null,
   "id": "0d056afc",
   "metadata": {},
   "outputs": [],
   "source": [
    "len(Link_list),len(Job_Links), len(Company_Links)"
   ]
  },
  {
   "cell_type": "markdown",
   "id": "9f0061cb",
   "metadata": {},
   "source": [
    "###### Scraping more of relevant data"
   ]
  },
  {
   "cell_type": "code",
   "execution_count": null,
   "id": "0f235817",
   "metadata": {},
   "outputs": [],
   "source": [
    "Job_designation=[]\n",
    "Company_name=[]\n",
    "City=[]\n",
    "Applicants_count=[]\n",
    "Job_level=[]\n",
    "E_count_ind=[]\n",
    "Emp_count=[]\n",
    "Linkedin_emp=[]\n",
    "Company_followers=[]"
   ]
  },
  {
   "cell_type": "code",
   "execution_count": null,
   "id": "b61fa5bb",
   "metadata": {},
   "outputs": [],
   "source": [
    "count=0\n",
    "\n",
    "for l in range(0,len(Job_Links)):\n",
    "    \n",
    "    count+=1\n",
    "    print(count)\n",
    "    \n",
    "    driver.get(Job_Links[l])\n",
    "    driver.implicitly_wait(3)\n",
    "    \n",
    "    #job designation\n",
    "    try:\n",
    "        job=driver.find_elementse(By.CLASS_NAME, \"jobs-unified-top-card__job-title\")\n",
    "        Job_designation.append(job[0].text)\n",
    "    except:\n",
    "        Job_designation.append('NULL')\n",
    "    \n",
    "    #company name\n",
    "    try:\n",
    "        company_name=driver.find_elements(By.CLASS_NAME, \"jobs-unified-top-card__company-name\")\n",
    "        Company_name.append(company_name[0].text)\n",
    "    except:\n",
    "        Company_name.append('NULL')\n",
    "    \n",
    "    #City\n",
    "    try:\n",
    "        locationname=driver.find_elements(By.CLASS_NAME, \"jobs-unified-top-card__bullet\")\n",
    "        City.append(locationname[0].text)\n",
    "    except:\n",
    "        City.append('NULL')\n",
    "     \n",
    "    #Count of applications\n",
    "    try:\n",
    "        applicants_count=driver.find_elements(By.CLASS_NAME, \"jobs-unified-top-card__applicant-count\")\n",
    "        Applicants_count.append(applicants_count[0].text)\n",
    "    except:\n",
    "        Applicants_count.append('NULL')\n",
    "     \n",
    "    #Job level and Emp count\n",
    "    try:\n",
    "        job_nature=driver.find_elements(By.CLASS_NAME, \"jobs-unified-top-card__job-insight\")\n",
    "        Job_level.append(job_nature[0].text)\n",
    "        E_count_ind.append(job_nature[1].text)\n",
    "    except:\n",
    "        Job_level.append('NULL')\n",
    "        E_count_ind.append('NULL')\n",
    "     \n",
    "    #Emp count and No of employees\n",
    "    try:\n",
    "        emp_count_Linkedin=driver.find_elements(By.CLASS_NAME, \"jobs-company__inline-information\")\n",
    "        Emp_count.append(emp_count_onLinkedin[0].text)\n",
    "        Linkedin_emp.append(emp_count_onLinkedin[1].text)\n",
    "        \n",
    "    except:\n",
    "        Emp_count.append('NULL')\n",
    "        Linkedin_emp.append('NULL')\n",
    "        \n",
    "     #No of followers   \n",
    "    try:\n",
    "        followers=driver.find_elements(By.CLASS_NAME, \"artdeco-entity-lockup__subtitle\")\n",
    "        Company_followers.append(followers[0].text)\n",
    "    except:\n",
    "        Company_followers.append('NULL')\n",
    "    \n",
    "    time.sleep(5)"
   ]
  },
  {
   "cell_type": "markdown",
   "id": "ee89a683",
   "metadata": {},
   "source": [
    "#### Conveting into dataframe"
   ]
  },
  {
   "cell_type": "code",
   "execution_count": null,
   "id": "a85fd122",
   "metadata": {},
   "outputs": [],
   "source": [
    "col=[\"designation\",\"Company\",\"location\",\"Applicant_count\",\"Jobnature_level\",\"Empcount_Ctype\",\"Empcount\",\"Emp_onLinkedin\",\"Companyfollowers\"]\n",
    "\n",
    "df=pd.DataFrame({\"Designation\":Job_designation,\"Company\":Company_name,\"Location\":City,\"Applicant_count\":Applicants_count,\"Jobnature\":Job_level,\"Empcount_Ctype\":E_count_ind,\"Employees_count\":Emp_count,\"Employees_on_Linkedin\":Linkedin_emp,\"Company_Followers\":Company_followers})"
   ]
  },
  {
   "cell_type": "code",
   "execution_count": null,
   "id": "1fe88951",
   "metadata": {},
   "outputs": [],
   "source": [
    "df.head()"
   ]
  },
  {
   "cell_type": "markdown",
   "id": "93a2bcc2",
   "metadata": {},
   "source": [
    "#### Converting to excel file"
   ]
  },
  {
   "cell_type": "code",
   "execution_count": null,
   "id": "0cae3dcf",
   "metadata": {},
   "outputs": [],
   "source": [
    "df.to_excel('Joblist.xlsx')"
   ]
  }
 ],
 "metadata": {
  "kernelspec": {
   "display_name": "Python 3 (ipykernel)",
   "language": "python",
   "name": "python3"
  },
  "language_info": {
   "codemirror_mode": {
    "name": "ipython",
    "version": 3
   },
   "file_extension": ".py",
   "mimetype": "text/x-python",
   "name": "python",
   "nbconvert_exporter": "python",
   "pygments_lexer": "ipython3",
   "version": "3.9.12"
  }
 },
 "nbformat": 4,
 "nbformat_minor": 5
}
